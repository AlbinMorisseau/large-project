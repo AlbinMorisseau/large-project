{
 "cells": [
  {
   "cell_type": "markdown",
   "id": "7cc5e87d",
   "metadata": {},
   "source": [
    "# Reviews combination"
   ]
  },
  {
   "cell_type": "markdown",
   "id": "468816b6",
   "metadata": {},
   "source": [
    "This notebook allows you to combine all the reviews present in the various useful datasets identified to create a single dataset of reviews that follows the following structure:\n",
    "- id_review\n",
    "- review\n",
    "- original_dataset\n",
    "- original_id\n",
    "- service_type"
   ]
  },
  {
   "cell_type": "markdown",
   "id": "739233f3",
   "metadata": {},
   "source": [
    "### Preprocessing"
   ]
  },
  {
   "cell_type": "markdown",
   "id": "d3748130",
   "metadata": {},
   "source": [
    "Preprocessing is necessary on the European hotelreview and booking datasets because the reviews are separated into two categories: positive and negative. In our initial approach, we do not need to segment the reviews into two groups. The decision has therefore been made to combine the content of these two cells into one.\n",
    "To make the pipeline easier to read, the two new dataframes thus created will be saved in CSV format."
   ]
  },
  {
   "cell_type": "code",
   "execution_count": null,
   "id": "1bc6e93e",
   "metadata": {},
   "outputs": [],
   "source": [
    "import polars as pl\n",
    "\n",
    "df = pl.read_csv(\"../data/processed/dataset/data_booking.csv\")\n",
    "\n",
    "# Merge the review_positive and review_negative columns\n",
    "df = df.with_columns(\n",
    "    (pl.col(\"review_positive\") + \" \" + pl.col(\"review_negative\")).alias(\"review\")\n",
    ")\n",
    "\n",
    "# Remove the original columns\n",
    "df = df.drop([\"review_positive\", \"review_negative\"])\n",
    "\n",
    "print(df.head())\n",
    "\n",
    "# Save in CSV\n",
    "df.write_csv(\"../data/processed/data_booking.csv\")\n"
   ]
  },
  {
   "cell_type": "code",
   "execution_count": null,
   "id": "c5e22ad5",
   "metadata": {},
   "outputs": [],
   "source": [
    "import polars as pl\n",
    "\n",
    "df = pl.read_csv(\"../data/processed/dataset/data_european_hotel_reviews.csv\")\n",
    "\n",
    "# Merge the Negative_Review and Positive_Review columns\n",
    "df = df.with_columns(\n",
    "    (pl.col(\"Negative_Review\") + \" \" + pl.col(\"Positive_Review\")).alias(\"review\")\n",
    ")\n",
    "\n",
    "# Remove the original columns\n",
    "df = df.drop([\"Negative_Review\", \"Positive_Review\"])\n",
    "\n",
    "print(df.head())\n",
    "\n",
    "# Save in CSV\n",
    "df.write_csv(\"../data/processed/data_european_hotel_reviews.csv\")\n"
   ]
  },
  {
   "cell_type": "markdown",
   "id": "e0891d71",
   "metadata": {},
   "source": [
    "## Pipeline"
   ]
  },
  {
   "cell_type": "code",
   "execution_count": null,
   "id": "fede1bd3",
   "metadata": {},
   "outputs": [],
   "source": [
    "import polars as pl\n",
    "\n",
    "def load_dataset(path: str, review_col: str, id_col: str, dataset_name: str, service_type: str) -> pl.DataFrame:\n",
    "    \"\"\"\n",
    "    Loads a dataset and formats it in memory in standard format:\n",
    "    - review: comment text\n",
    "    - original_dataset: name of the original dataset\n",
    "    - original_id: original identifier\n",
    "    - service_type: type of service (e.g., \"accommodation\", \"restauration\", etc.)\n",
    "    \"\"\"\n",
    "    # Read\n",
    "    df = pl.read_csv(path, encoding=\"latin1\", ignore_errors=True)\n",
    "\n",
    "    # Conversion to target format\n",
    "    df = (\n",
    "        df\n",
    "        .rename({review_col: \"review\", id_col: \"original_id\"})\n",
    "        .select([\"review\", \"original_id\"])\n",
    "        .with_columns([\n",
    "            pl.lit(dataset_name).alias(\"original_dataset\"),\n",
    "            pl.lit(service_type).alias(\"service_type\")\n",
    "        ])\n",
    "        .select([\"review\", \"original_dataset\", \"original_id\", \"service_type\"])\n",
    "    )\n",
    "\n",
    "    return df\n"
   ]
  },
  {
   "cell_type": "code",
   "execution_count": null,
   "id": "1c4e4ac4",
   "metadata": {},
   "outputs": [],
   "source": [
    "# Load multiple datasets into memory\n",
    "dfs = [\n",
    "    load_dataset(\"../data/processed/dataset/data_activities_reviews.csv\", \"Text\", \"id\", \"data_activities_reviews\", \"leisure\"),\n",
    "    load_dataset(\"../data/processed/dataset/data_airline_reviews_1.csv\", \"ReviewBody\", \"id\", \"data_airline_reviews_1\", \"transportation\"),\n",
    "    load_dataset(\"../data/processed/dataset/data_airline_reviews_2.csv\", \"Reviews\", \"id\", \"data_airline_reviews_2\", \"transportation\"),\n",
    "    load_dataset(\"../data/processed/dataset/data_european_restaurant_reviews.csv\", \"Review\", \"id\", \"data_european_restaurant_reviews\", \"restauration\"),\n",
    "    load_dataset(\"../data/processed/dataset/data_hotel_reviews_1.csv\", \"reviews.text\", \"id\", \"data_hotel_reviews_1\", \"accommodation\"),\n",
    "    load_dataset(\"../data/processed/dataset/data_hotel_reviews_2.csv\", \"reviews.text\", \"id\", \"data_hotel_reviews_2\", \"accommodation\"),\n",
    "    load_dataset(\"../data/processed/dataset/data_hotel_reviews_3.csv\", \"reviews.text\", \"id\", \"data_hotel_reviews_3\", \"accommodation\"),\n",
    "    load_dataset(\"../data/processed/dataset/data_restaurant_reviews_1.csv\", \"Review\", \"id\", \"data_restaurant_reviews_1\", \"restauration\"),\n",
    "    load_dataset(\"../data/processed/dataset/data_restaurant_reviews_2.csv\", \"Review\", \"id\", \"data_restaurant_reviews_2\", \"restauration\"),\n",
    "    load_dataset(\"../data/processed/dataset/data_tripadvisor_hotel_reviews.csv\", \"text\", \"id\", \"data_tripadvisor_hotel_reviews\", \"accommodation\"),\n",
    "    load_dataset(\"../data/processed/dataset/data_twitter.csv\", \"Text\", \"id\", \"data_twitter\", \"undetermined\"),\n",
    "    load_dataset(\"../data/processed/data_booking.csv\", \"review\", \"id\", \"data_booking\", \"accommodation\"),\n",
    "    load_dataset(\"../data/processed/data_european_hotel_reviews.csv\", \"review\", \"id\", \"data_european_hotel_reviews\", \"accommodation\")\n",
    "]\n"
   ]
  },
  {
   "cell_type": "code",
   "execution_count": null,
   "id": "2437c056",
   "metadata": {},
   "outputs": [
    {
     "name": "stdout",
     "output_type": "stream",
     "text": [
      "✅ Dataset global créé : data/processed/all_reviews.csv\n",
      "(3363667, 5)\n",
      "shape: (5, 5)\n",
      "┌───────────┬───────────────────────────────┬─────────────────────────┬─────────────┬──────────────┐\n",
      "│ id_review ┆ review                        ┆ original_dataset        ┆ original_id ┆ service_type │\n",
      "│ ---       ┆ ---                           ┆ ---                     ┆ ---         ┆ ---          │\n",
      "│ i64       ┆ str                           ┆ str                     ┆ i64         ┆ str          │\n",
      "╞═══════════╪═══════════════════════════════╪═════════════════════════╪═════════════╪══════════════╡\n",
      "│ 0         ┆ fishing , swimming ,          ┆ data_activities_reviews ┆ 1           ┆ leisure      │\n",
      "│           ┆ traveling                     ┆                         ┆             ┆              │\n",
      "│ 1         ┆ Snowball fight  Skiing        ┆ data_activities_reviews ┆ 2           ┆ leisure      │\n",
      "│           ┆ Snowbo…                       ┆                         ┆             ┆              │\n",
      "│ 2         ┆ Great Book!: This is a great  ┆ data_activities_reviews ┆ 3           ┆ leisure      │\n",
      "│           ┆ b…                            ┆                         ┆             ┆              │\n",
      "│ 3         ┆ Far from the Peppers' best.:  ┆ data_activities_reviews ┆ 4           ┆ leisure      │\n",
      "│           ┆ I…                            ┆                         ┆             ┆              │\n",
      "│ 4         ┆ Bonefire, camping, drinking   ┆ data_activities_reviews ┆ 5           ┆ leisure      │\n",
      "└───────────┴───────────────────────────────┴─────────────────────────┴─────────────┴──────────────┘\n"
     ]
    }
   ],
   "source": [
    "# Concatenating all DataFrames\n",
    "df_all = pl.concat(dfs, rechunk=True)\n",
    "\n",
    "# Adding an artificial id\n",
    "id_column = pl.Series(\"id_review\", range(df_all.height))  \n",
    "df_all = pl.concat([id_column.to_frame(), df_all], how=\"horizontal\")\n",
    "\n",
    "# Manage Yelp\n",
    "#df_yelp = load_dataset(\"../data/processed/dataset/data_yelp_reviews.csv\", \"text\", \"id\", \"data_yelp_reviews\", \"accommodation\")\n",
    "\n",
    "#df_all = pl.concat(df_yelp, rechunk=True)\n",
    "# Sauvegarde du dataset global\n",
    "df_all.write_csv(\"../data/processed/all_reviews.csv\")\n",
    "\n",
    "print(\"The global dataset has been created: data/processed/all_reviews.csv\")\n",
    "print(df_all.shape)\n",
    "print(df_all.head())"
   ]
  },
  {
   "cell_type": "code",
   "execution_count": null,
   "id": "abc91fd0",
   "metadata": {},
   "outputs": [],
   "source": [
    "# Attempt\n",
    "\n",
    "#df_yelp = load_dataset(\"../data/processed/dataset/data_yelp_reviews.csv\", \"text\", \"id\", \"data_yelp_reviews\", \"accommodation\")\n",
    "import polars as pl\n",
    "df = pl.read_csv(\"../data/processed/all_reviews.csv\")\n",
    "\n",
    "\n",
    "\n",
    "#df_all = pl.concat([df, df_yelp], rechunk=True)\n",
    "\n",
    "#df_all.write_csv(\"../data/processed/all_reviews_new.csv\")"
   ]
  }
 ],
 "metadata": {
  "kernelspec": {
   "display_name": "venv",
   "language": "python",
   "name": "python3"
  },
  "language_info": {
   "codemirror_mode": {
    "name": "ipython",
    "version": 3
   },
   "file_extension": ".py",
   "mimetype": "text/x-python",
   "name": "python",
   "nbconvert_exporter": "python",
   "pygments_lexer": "ipython3",
   "version": "3.13.3"
  }
 },
 "nbformat": 4,
 "nbformat_minor": 5
}
