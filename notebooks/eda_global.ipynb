{
 "cells": [
  {
   "cell_type": "markdown",
   "id": "cfb7630b",
   "metadata": {},
   "source": [
    "# EDA Global"
   ]
  },
  {
   "cell_type": "markdown",
   "id": "fbd6a8ad",
   "metadata": {},
   "source": [
    "## Hotel Reviews"
   ]
  },
  {
   "cell_type": "code",
   "execution_count": null,
   "id": "d14c562d",
   "metadata": {},
   "outputs": [],
   "source": [
    "import polars as pl"
   ]
  },
  {
   "cell_type": "code",
   "execution_count": null,
   "id": "009fe49f",
   "metadata": {},
   "outputs": [],
   "source": [
    "df = pl.read_csv(\"../data/original/Hotel_reviews/Hotel_Reviews_3.csv\", encoding=\"utf8\", ignore_errors=True)"
   ]
  },
  {
   "cell_type": "code",
   "execution_count": null,
   "id": "b1a0f209",
   "metadata": {},
   "outputs": [
    {
     "name": "stdout",
     "output_type": "stream",
     "text": [
      "(10000, 26)\n",
      " \n",
      "\n",
      "id: 1433 valeurs uniques\n",
      "dateAdded: 1341 valeurs uniques\n",
      "dateUpdated: 1397 valeurs uniques\n",
      "address: 1432 valeurs uniques\n",
      "categories: 631 valeurs uniques\n",
      "primaryCategories: 4 valeurs uniques\n",
      "city: 842 valeurs uniques\n",
      "country: 1 valeurs uniques\n",
      "keys: 1433 valeurs uniques\n",
      "latitude: 1430 valeurs uniques\n",
      "longitude: 1431 valeurs uniques\n",
      "name: 1311 valeurs uniques\n",
      "postalCode: 1085 valeurs uniques\n",
      "province: 46 valeurs uniques\n",
      "reviews.date: 3370 valeurs uniques\n",
      "reviews.dateAdded: 1 valeurs uniques\n",
      "reviews.dateSeen: 701 valeurs uniques\n",
      "reviews.rating: 5 valeurs uniques\n",
      "reviews.sourceURLs: 8228 valeurs uniques\n",
      "reviews.text: 9770 valeurs uniques\n",
      "reviews.title: 8471 valeurs uniques\n",
      "reviews.userCity: 3101 valeurs uniques\n",
      "reviews.userProvince: 245 valeurs uniques\n",
      "reviews.username: 9222 valeurs uniques\n",
      "sourceURLs: 1433 valeurs uniques\n",
      "websites: 1327 valeurs uniques\n"
     ]
    }
   ],
   "source": [
    "print(df.shape)\n",
    "\n",
    "for col in df.columns:\n",
    "    n_unique = df[col].n_unique()\n",
    "    print(f\"{col}: {n_unique} valeurs uniques\")"
   ]
  },
  {
   "cell_type": "markdown",
   "id": "7481ccdf",
   "metadata": {},
   "source": [
    "No primary key, so one must be introduced artificially"
   ]
  },
  {
   "cell_type": "code",
   "execution_count": null,
   "id": "aaa15dc8",
   "metadata": {},
   "outputs": [],
   "source": [
    "df = pl.read_csv(\"../data/original/Hotel_reviews/Hotel_Reviews_1.csv\", encoding=\"latin1\", ignore_errors=True)\n",
    "\n",
    "# Id artificially\n",
    "df_concat = df.with_columns([\n",
    "    pl.arange(1, df.height + 1).alias(\"id\")\n",
    "])\n",
    "\n",
    "df_concat.write_csv(\"../data/processed/data_hotel_reviews_1.csv\")"
   ]
  },
  {
   "cell_type": "code",
   "execution_count": 25,
   "id": "15934be2",
   "metadata": {},
   "outputs": [],
   "source": [
    "df = pl.read_csv(\"../data/original/Hotel_reviews/Hotel_Reviews_2.csv\", encoding=\"latin1\", ignore_errors=True)\n",
    "\n",
    "# Id artificially\n",
    "df_concat = df.with_columns([\n",
    "    pl.arange(1, df.height + 1).alias(\"id\")\n",
    "])\n",
    "\n",
    "df_concat.write_csv(\"../data/processed/data_hotel_reviews_2.csv\") "
   ]
  },
  {
   "cell_type": "code",
   "execution_count": 28,
   "id": "a9cb7391",
   "metadata": {},
   "outputs": [],
   "source": [
    "df = pl.read_csv(\"../data/original/Hotel_reviews/Hotel_Reviews_3.csv\", encoding=\"latin1\", ignore_errors=True)\n",
    "\n",
    "# Id artificially\n",
    "df_concat = df.with_columns([\n",
    "    pl.arange(1, df.height + 1).alias(\"id\")\n",
    "])\n",
    "\n",
    "df_concat.write_csv(\"../data/processed/data_hotel_reviews_3.csv\") "
   ]
  },
  {
   "cell_type": "markdown",
   "id": "5705c4aa",
   "metadata": {},
   "source": [
    "### European Hotel Reviews"
   ]
  },
  {
   "cell_type": "code",
   "execution_count": null,
   "id": "72393c33",
   "metadata": {},
   "outputs": [
    {
     "name": "stdout",
     "output_type": "stream",
     "text": [
      "(515738, 17)\n",
      " \n",
      "\n",
      "Hotel_Address: 1493 valeurs uniques\n",
      "Additional_Number_of_Scoring: 480 valeurs uniques\n",
      "Review_Date: 731 valeurs uniques\n",
      "Average_Score: 34 valeurs uniques\n",
      "Hotel_Name: 1492 valeurs uniques\n",
      "Reviewer_Nationality: 227 valeurs uniques\n",
      "Negative_Review: 330011 valeurs uniques\n",
      "Review_Total_Negative_Word_Counts: 402 valeurs uniques\n",
      "Total_Number_of_Reviews: 1142 valeurs uniques\n",
      "Positive_Review: 412601 valeurs uniques\n",
      "Review_Total_Positive_Word_Counts: 365 valeurs uniques\n",
      "Total_Number_of_Reviews_Reviewer_Has_Given: 198 valeurs uniques\n",
      "Reviewer_Score: 37 valeurs uniques\n",
      "Tags: 55242 valeurs uniques\n",
      "days_since_review: 731 valeurs uniques\n",
      "lat: 1473 valeurs uniques\n",
      "lng: 1473 valeurs uniques\n"
     ]
    }
   ],
   "source": [
    "df = pl.read_csv(\"../data/original/Hotel_reviews/Hotel_Reviews_European.csv\", encoding=\"latin1\", ignore_errors=True)\n",
    "\n",
    "print(df.shape)\n",
    "\n",
    "for col in df.columns:\n",
    "    n_unique = df[col].n_unique()\n",
    "    print(f\"{col}: {n_unique} valeurs uniques\")"
   ]
  },
  {
   "cell_type": "code",
   "execution_count": 19,
   "id": "c3c9b61f",
   "metadata": {},
   "outputs": [],
   "source": [
    "# Id artificially\n",
    "df_concat = df.with_columns([\n",
    "    pl.arange(1, df.height + 1).alias(\"id\")\n",
    "])\n",
    "\n",
    "df_concat.write_csv(\"../data/processed/dataset/data_european_hotel_reviews.csv\") "
   ]
  },
  {
   "cell_type": "markdown",
   "id": "f832c852",
   "metadata": {},
   "source": [
    "## TripAdvisor"
   ]
  },
  {
   "cell_type": "code",
   "execution_count": null,
   "id": "eccc20cf",
   "metadata": {},
   "outputs": [
    {
     "name": "stdout",
     "output_type": "stream",
     "text": [
      "(878561, 10)\n",
      " \n",
      "\n",
      "ratings: 55523 valeurs uniques\n",
      "title: 631300 valeurs uniques\n",
      "text: 877573 valeurs uniques\n",
      "author: 577942 valeurs uniques\n",
      "date_stayed: 169 valeurs uniques\n",
      "offering_id: 3945 valeurs uniques\n",
      "num_helpful_votes: 100 valeurs uniques\n",
      "date: 3948 valeurs uniques\n",
      "id: 878561 valeurs uniques\n",
      "via_mobile: 2 valeurs uniques\n"
     ]
    }
   ],
   "source": [
    "df = pl.read_csv(\"../data/original/TripAdvisor_Hotel_Reviews/reviews.csv\")\n",
    "\n",
    "print(df.shape)\n",
    "\n",
    "for col in df.columns:\n",
    "    n_unique = df[col].n_unique()\n",
    "    print(f\"{col}: {n_unique} valeurs uniques\")"
   ]
  },
  {
   "cell_type": "code",
   "execution_count": null,
   "id": "b69563e0",
   "metadata": {},
   "outputs": [],
   "source": [
    "df.write_csv(\"../data/processed/dataset/data_tripadvisor_hotel_reviews.csv\") "
   ]
  },
  {
   "cell_type": "markdown",
   "id": "02cc8e46",
   "metadata": {},
   "source": [
    "## Airline Reviews"
   ]
  },
  {
   "cell_type": "code",
   "execution_count": 6,
   "id": "8a6634c1",
   "metadata": {},
   "outputs": [
    {
     "name": "stdout",
     "output_type": "stream",
     "text": [
      "(3701, 20)\n",
      " \n",
      "\n",
      ": 3701 valeurs uniques\n",
      "OverallRating: 11 valeurs uniques\n",
      "ReviewHeader: 2684 valeurs uniques\n",
      "Name: 2906 valeurs uniques\n",
      "Datetime: 1820 valeurs uniques\n",
      "VerifiedReview: 2 valeurs uniques\n",
      "ReviewBody: 3692 valeurs uniques\n",
      "TypeOfTraveller: 5 valeurs uniques\n",
      "SeatType: 5 valeurs uniques\n",
      "Route: 1591 valeurs uniques\n",
      "DateFlown: 113 valeurs uniques\n",
      "SeatComfort: 6 valeurs uniques\n",
      "CabinStaffService: 6 valeurs uniques\n",
      "GroundService: 6 valeurs uniques\n",
      "ValueForMoney: 6 valeurs uniques\n",
      "Recommended: 2 valeurs uniques\n",
      "Aircraft: 203 valeurs uniques\n",
      "Food&Beverages: 6 valeurs uniques\n",
      "InflightEntertainment: 6 valeurs uniques\n",
      "Wifi&Connectivity: 6 valeurs uniques\n"
     ]
    }
   ],
   "source": [
    "df = pl.read_csv(\"../data/original/Airline_Reviews/BA_AirlineReviews.csv\", encoding=\"latin1\", ignore_errors=True)\n",
    "\n",
    "print(df.shape)\n",
    "print(\" \\n\")\n",
    "for col in df.columns:\n",
    "    n_unique = df[col].n_unique()\n",
    "    print(f\"{col}: {n_unique} valeurs uniques\")"
   ]
  },
  {
   "cell_type": "code",
   "execution_count": null,
   "id": "78dd589e",
   "metadata": {},
   "outputs": [
    {
     "name": "stdout",
     "output_type": "stream",
     "text": [
      "shape: (5, 20)\n",
      "┌─────┬────────────┬────────────┬────────────┬───┬──────────┬────────────┬────────────┬────────────┐\n",
      "│ id  ┆ OverallRat ┆ ReviewHead ┆ Name       ┆ … ┆ Aircraft ┆ Food&Bever ┆ InflightEn ┆ Wifi&Conne │\n",
      "│ --- ┆ ing        ┆ er         ┆ ---        ┆   ┆ ---      ┆ ages       ┆ tertainmen ┆ ctivity    │\n",
      "│ i64 ┆ ---        ┆ ---        ┆ str        ┆   ┆ str      ┆ ---        ┆ t          ┆ ---        │\n",
      "│     ┆ i64        ┆ str        ┆            ┆   ┆          ┆ i64        ┆ ---        ┆ i64        │\n",
      "│     ┆            ┆            ┆            ┆   ┆          ┆            ┆ i64        ┆            │\n",
      "╞═════╪════════════╪════════════╪════════════╪═══╪══════════╪════════════╪════════════╪════════════╡\n",
      "│ 0   ┆ 1          ┆ \"Service   ┆ L Keele    ┆ … ┆ null     ┆ null       ┆ null       ┆ null       │\n",
      "│     ┆            ┆ level far  ┆            ┆   ┆          ┆            ┆            ┆            │\n",
      "│     ┆            ┆ worse then ┆            ┆   ┆          ┆            ┆            ┆            │\n",
      "│     ┆            ┆ …          ┆            ┆   ┆          ┆            ┆            ┆            │\n",
      "│ 1   ┆ 3          ┆ \"do not    ┆ Austin     ┆ … ┆ A320     ┆ 1          ┆ 2          ┆ 2          │\n",
      "│     ┆            ┆ upgrade    ┆ Jones      ┆   ┆          ┆            ┆            ┆            │\n",
      "│     ┆            ┆ members    ┆            ┆   ┆          ┆            ┆            ┆            │\n",
      "│     ┆            ┆ based …    ┆            ┆   ┆          ┆            ┆            ┆            │\n",
      "│ 2   ┆ 8          ┆ \"Flight    ┆ M A Collie ┆ … ┆ A320     ┆ 4          ┆ null       ┆ null       │\n",
      "│     ┆            ┆ was smooth ┆            ┆   ┆          ┆            ┆            ┆            │\n",
      "│     ┆            ┆ and quick\" ┆            ┆   ┆          ┆            ┆            ┆            │\n",
      "│ 3   ┆ 1          ┆ \"Absolutel ┆ Nigel Dean ┆ … ┆ null     ┆ null       ┆ null       ┆ null       │\n",
      "│     ┆            ┆ y hopeless ┆            ┆   ┆          ┆            ┆            ┆            │\n",
      "│     ┆            ┆ airline\"   ┆            ┆   ┆          ┆            ┆            ┆            │\n",
      "│ 4   ┆ 1          ┆ \"Customer  ┆ Gaylynne   ┆ … ┆ null     ┆ 1          ┆ 1          ┆ 1          │\n",
      "│     ┆            ┆ Service is ┆ Simpson    ┆   ┆          ┆            ┆            ┆            │\n",
      "│     ┆            ┆ non exist… ┆            ┆   ┆          ┆            ┆            ┆            │\n",
      "└─────┴────────────┴────────────┴────────────┴───┴──────────┴────────────┴────────────┴────────────┘\n"
     ]
    }
   ],
   "source": [
    "df_new = df.rename({df.columns[0]: \"id\"})  \n",
    "\n",
    "print(df_new.head())"
   ]
  },
  {
   "cell_type": "code",
   "execution_count": null,
   "id": "caa779be",
   "metadata": {},
   "outputs": [],
   "source": [
    "df_new.write_csv(\"../data/processed/dataset/data_airline_reviews_1.csv\") "
   ]
  },
  {
   "cell_type": "code",
   "execution_count": 10,
   "id": "9ab75d29",
   "metadata": {},
   "outputs": [
    {
     "name": "stdout",
     "output_type": "stream",
     "text": [
      "(8100, 17)\n",
      " \n",
      "\n",
      "Title: 7614 valeurs uniques\n",
      "Name: 6583 valeurs uniques\n",
      "Review Date: 2549 valeurs uniques\n",
      "Airline: 10 valeurs uniques\n",
      "Verified: 3 valeurs uniques\n",
      "Reviews: 8099 valeurs uniques\n",
      "Type of Traveller: 4 valeurs uniques\n",
      "Month Flown: 107 valeurs uniques\n",
      "Route: 5566 valeurs uniques\n",
      "Class: 4 valeurs uniques\n",
      "Seat Comfort: 5 valeurs uniques\n",
      "Staff Service: 5 valeurs uniques\n",
      "Food & Beverages: 5 valeurs uniques\n",
      "Inflight Entertainment: 6 valeurs uniques\n",
      "Value For Money: 5 valeurs uniques\n",
      "Overall Rating: 10 valeurs uniques\n",
      "Recommended: 2 valeurs uniques\n"
     ]
    }
   ],
   "source": [
    "# 2eme airline review\n",
    "df = pl.read_csv(\"../data/original/Airline_Reviews/airlines_reviews.csv\", encoding=\"latin1\", ignore_errors=True)\n",
    "\n",
    "print(df.shape)\n",
    "print(\" \\n\")\n",
    "for col in df.columns:\n",
    "    n_unique = df[col].n_unique()\n",
    "    print(f\"{col}: {n_unique} valeurs uniques\")"
   ]
  },
  {
   "cell_type": "code",
   "execution_count": 11,
   "id": "c241a073",
   "metadata": {},
   "outputs": [],
   "source": [
    "# Id artificially\n",
    "df_concat = df.with_columns([\n",
    "    pl.arange(1, df.height + 1).alias(\"id\")\n",
    "])\n",
    "\n",
    "df_concat.write_csv(\"../data/processed/dataset/data_airline_reviews_2.csv\") "
   ]
  },
  {
   "cell_type": "markdown",
   "id": "65715175",
   "metadata": {},
   "source": [
    "## Restaurant Reviews"
   ]
  },
  {
   "cell_type": "code",
   "execution_count": null,
   "id": "24aaf344",
   "metadata": {},
   "outputs": [
    {
     "name": "stdout",
     "output_type": "stream",
     "text": [
      "shape: (5, 2)\n",
      "┌─────────────────────────────────┬───────┐\n",
      "│ Review                          ┆ Liked │\n",
      "│ ---                             ┆ ---   │\n",
      "│ str                             ┆ i64   │\n",
      "╞═════════════════════════════════╪═══════╡\n",
      "│ Wow... Loved this place.        ┆ 1     │\n",
      "│ Crust is not good.              ┆ 0     │\n",
      "│ Not tasty and the texture was … ┆ 0     │\n",
      "│ Stopped by during the late May… ┆ 1     │\n",
      "│ The selection on the menu was … ┆ 1     │\n",
      "└─────────────────────────────────┴───────┘\n",
      "(1000, 2)\n"
     ]
    }
   ],
   "source": [
    "df = pl.read_csv(\n",
    "    \"../data/original/Restaurant_Reviews/Restaurant_Reviews.tsv\",\n",
    "    separator=\"\\t\",\n",
    "    ignore_errors=True,      \n",
    "    encoding=\"latin1\"        \n",
    ")\n",
    "\n",
    "print(df.head())\n",
    "print(df.shape)"
   ]
  },
  {
   "cell_type": "code",
   "execution_count": null,
   "id": "f1a95b59",
   "metadata": {},
   "outputs": [],
   "source": [
    "# Id artificially\n",
    "df_concat = df.with_columns([\n",
    "    pl.arange(1, df.height + 1).alias(\"id\")\n",
    "])\n",
    "\n",
    "df_concat.write_csv(\"../data/processed/dataset/data_restaurant_reviews_1.csv\") "
   ]
  },
  {
   "cell_type": "markdown",
   "id": "cf6136a1",
   "metadata": {},
   "source": [
    "### Restaurant reviews sentimal analysis"
   ]
  },
  {
   "cell_type": "code",
   "execution_count": null,
   "id": "6b834e57",
   "metadata": {},
   "outputs": [
    {
     "name": "stdout",
     "output_type": "stream",
     "text": [
      "(10000, 8)\n",
      " \n",
      "\n",
      "Restaurant: 100 valeurs uniques\n",
      "Reviewer: 7447 valeurs uniques\n",
      "Review: 9365 valeurs uniques\n",
      "Rating: 6 valeurs uniques\n",
      "Metadata: 2478 valeurs uniques\n",
      "Time: 9783 valeurs uniques\n",
      "Pictures: 36 valeurs uniques\n",
      "7514: 2 valeurs uniques\n"
     ]
    }
   ],
   "source": [
    "df = pl.read_csv(\"../data/original/Restaurant_Reviews/Restaurant reviews.csv\", encoding=\"latin1\", ignore_errors=True)\n",
    "\n",
    "print(df.shape)\n",
    "\n",
    "for col in df.columns:\n",
    "    n_unique = df[col].n_unique()\n",
    "    print(f\"{col}: {n_unique} valeurs uniques\")"
   ]
  },
  {
   "cell_type": "code",
   "execution_count": 13,
   "id": "0fe810ea",
   "metadata": {},
   "outputs": [],
   "source": [
    "# Id artificially\n",
    "df_concat = df.with_columns([\n",
    "    pl.arange(1, df.height + 1).alias(\"id\")\n",
    "])\n",
    "\n",
    "df_concat.write_csv(\"../data/processed/dataset/data_restaurant_reviews_2.csv\") "
   ]
  },
  {
   "cell_type": "markdown",
   "id": "e0ae16c4",
   "metadata": {},
   "source": [
    "### European restaurant reviews"
   ]
  },
  {
   "cell_type": "code",
   "execution_count": null,
   "id": "60532705",
   "metadata": {},
   "outputs": [
    {
     "name": "stdout",
     "output_type": "stream",
     "text": [
      "(1502, 6)\n",
      " \n",
      "\n",
      "Country: 7 valeurs uniques\n",
      "Restaurant Name: 7 valeurs uniques\n",
      "Sentiment: 2 valeurs uniques\n",
      "Review Title: 1343 valeurs uniques\n",
      "Review Date: 143 valeurs uniques\n",
      "Review: 1426 valeurs uniques\n"
     ]
    }
   ],
   "source": [
    "df = pl.read_csv(\"../data/original/Restaurant_Reviews/European Restaurant Reviews.csv\")\n",
    "\n",
    "print(df.shape)\n",
    "\n",
    "for col in df.columns:\n",
    "    n_unique = df[col].n_unique()\n",
    "    print(f\"{col}: {n_unique} valeurs uniques\")"
   ]
  },
  {
   "cell_type": "code",
   "execution_count": 16,
   "id": "3de24b56",
   "metadata": {},
   "outputs": [],
   "source": [
    "# Id artificially\n",
    "df_concat = df.with_columns([\n",
    "    pl.arange(1, df.height + 1).alias(\"id\")\n",
    "])\n",
    "\n",
    "df_concat.write_csv(\"../data/processed/dataset/data_european_restaurant_reviews.csv\") "
   ]
  },
  {
   "cell_type": "markdown",
   "id": "f87cc03a",
   "metadata": {},
   "source": [
    "## Activities Reviews"
   ]
  },
  {
   "cell_type": "code",
   "execution_count": null,
   "id": "55e91e5a",
   "metadata": {},
   "outputs": [
    {
     "name": "stdout",
     "output_type": "stream",
     "text": [
      "(46377, 3)\n",
      " \n",
      "\n",
      "Text: 45874 valeurs uniques\n",
      "Review-Activity: 2 valeurs uniques\n",
      "Season: 4 valeurs uniques\n"
     ]
    }
   ],
   "source": [
    "df = pl.read_csv(\"../data/original/Activities_Reviews/reviews-activities.csv\", encoding=\"latin1\", ignore_errors=True)\n",
    "\n",
    "print(df.shape)\n",
    "\n",
    "for col in df.columns:\n",
    "    n_unique = df[col].n_unique()\n",
    "    print(f\"{col}: {n_unique} valeurs uniques\")"
   ]
  },
  {
   "cell_type": "code",
   "execution_count": 8,
   "id": "46ce48bd",
   "metadata": {},
   "outputs": [],
   "source": [
    "# Id artificially\n",
    "df_concat = df.with_columns([\n",
    "    pl.arange(1, df.height + 1).alias(\"id\")\n",
    "])\n",
    "\n",
    "df_concat.write_csv(\"../data/processed/dataset/data_activities_reviews.csv\") "
   ]
  }
 ],
 "metadata": {
  "kernelspec": {
   "display_name": "venv",
   "language": "python",
   "name": "python3"
  },
  "language_info": {
   "codemirror_mode": {
    "name": "ipython",
    "version": 3
   },
   "file_extension": ".py",
   "mimetype": "text/x-python",
   "name": "python",
   "nbconvert_exporter": "python",
   "pygments_lexer": "ipython3",
   "version": "3.13.3"
  }
 },
 "nbformat": 4,
 "nbformat_minor": 5
}
