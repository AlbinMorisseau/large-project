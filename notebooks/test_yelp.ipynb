{
 "cells": [
  {
   "cell_type": "code",
   "execution_count": 1,
   "id": "7e1eb8c9",
   "metadata": {},
   "outputs": [
    {
     "name": "stdout",
     "output_type": "stream",
     "text": [
      "shape: (5, 1)\n",
      "┌─────────────────────────────────┐\n",
      "│ text                            │\n",
      "│ ---                             │\n",
      "│ str                             │\n",
      "╞═════════════════════════════════╡\n",
      "│ If you decide to eat here, jus… │\n",
      "│ I've taken a lot of spin class… │\n",
      "│ Family diner. Had the buffet. … │\n",
      "│ Wow!  Yummy, different,  delic… │\n",
      "│ Cute interior and owner (?) ga… │\n",
      "└─────────────────────────────────┘\n"
     ]
    }
   ],
   "source": [
    "import polars as pl\n",
    "\n",
    "df = pl.read_csv('reviews.csv',columns=['text'])\n",
    "\n",
    "print(df.head())"
   ]
  },
  {
   "cell_type": "code",
   "execution_count": 3,
   "id": "12ac3878",
   "metadata": {},
   "outputs": [
    {
     "name": "stdout",
     "output_type": "stream",
     "text": [
      "\n",
      "=== Résumé des comptages ===\n",
      "pet friendly: 3987\n",
      "dog friendly: 9121\n",
      "cat friendly: 35\n",
      "wheelchair: 3920\n"
     ]
    }
   ],
   "source": [
    "# Mots clés à rechercher\n",
    "keywords = [\"pet friendly\", \"dog friendly\", \"cat friendly\", \"wheelchair\"]\n",
    "\n",
    "# Dictionnaire pour stocker les comptages\n",
    "counts = {word: 0 for word in keywords}\n",
    "\n",
    "# Parcourir chaque mot clé\n",
    "for word in keywords:\n",
    "    word_lower = word.lower()\n",
    "    \n",
    "    # Créer un masque pour trouver les reviews contenant le mot\n",
    "    mask = (\n",
    "        df[\"text\"].str.to_lowercase().str.contains(fr\"\\b{word_lower}\\b\")\n",
    "    )\n",
    "    \n",
    "    # Filtrer les reviews\n",
    "    reviews = df.filter(mask)\n",
    "    \n",
    "    # Mettre à jour le compteur\n",
    "    counts[word] = len(reviews)\n",
    "    \n",
    "    # Afficher les reviews contenant le mot\n",
    "    # print(f\"\\n===== Reviews contenant '{word}' ({counts[word]} trouvées) =====\")\n",
    "    # for i, row in enumerate(reviews.to_dicts()):\n",
    "    #     print(f\"--- Review {i+1} ---\")\n",
    "    #     print(\"Review:\", row.get(\"text\"))\n",
    "    #     print()\n",
    "\n",
    "# Afficher le résumé des comptages\n",
    "print(\"\\n=== Résumé des comptages ===\")\n",
    "for word, count in counts.items():\n",
    "    print(f\"{word}: {count}\")\n"
   ]
  }
 ],
 "metadata": {
  "kernelspec": {
   "display_name": "Python 3",
   "language": "python",
   "name": "python3"
  },
  "language_info": {
   "codemirror_mode": {
    "name": "ipython",
    "version": 3
   },
   "file_extension": ".py",
   "mimetype": "text/x-python",
   "name": "python",
   "nbconvert_exporter": "python",
   "pygments_lexer": "ipython3",
   "version": "3.13.7"
  }
 },
 "nbformat": 4,
 "nbformat_minor": 5
}
